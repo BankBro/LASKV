{
 "cells": [
  {
   "cell_type": "code",
   "execution_count": 1,
   "metadata": {},
   "outputs": [
    {
     "name": "stderr",
     "output_type": "stream",
     "text": [
      "/home/lyj/miniconda3/envs/LASKV/lib/python3.8/site-packages/tqdm/auto.py:21: TqdmWarning: IProgress not found. Please update jupyter and ipywidgets. See https://ipywidgets.readthedocs.io/en/stable/user_install.html\n",
      "  from .autonotebook import tqdm as notebook_tqdm\n"
     ]
    }
   ],
   "source": [
    "from transformers import GPT2Tokenizer, GPT2LMHeadModel\n",
    "import torch"
   ]
  },
  {
   "cell_type": "code",
   "execution_count": 2,
   "metadata": {},
   "outputs": [
    {
     "name": "stderr",
     "output_type": "stream",
     "text": [
      "/home/lyj/miniconda3/envs/LASKV/lib/python3.8/site-packages/huggingface_hub/file_download.py:797: FutureWarning: `resume_download` is deprecated and will be removed in version 1.0.0. Downloads always resume when possible. If you want to force a new download, use `force_download=True`.\n",
      "  warnings.warn(\n"
     ]
    }
   ],
   "source": [
    "# Step 1: Load pre-trained GPT-2 model and tokenizer\n",
    "model_name = 'gpt2'\n",
    "tokenizer = GPT2Tokenizer.from_pretrained(model_name)\n",
    "model = GPT2LMHeadModel.from_pretrained(model_name)"
   ]
  },
  {
   "cell_type": "code",
   "execution_count": 3,
   "metadata": {},
   "outputs": [],
   "source": [
    "# Step 2: Prepare input prompt\n",
    "prompt = (\"Write a chapter from the fantasy adventure novel \\\"The City of Eternal Mist.\\\" \"\n",
    "            \"The story is set in a distant past where technology and magic coexist, \"\n",
    "            \"in an ancient metropolis shrouded in perpetual fog. \"\n",
    "            \"The city, known as the City of Eternal Mist, is surrounded by towering stone walls, \"\n",
    "            \"with winding streets and ancient buildings inside. At its heart stands a soaring tower, \"\n",
    "            \"said to contain the secrets of the city. The inhabitants worship the elements of nature \"\n",
    "            \"and believe that all things have a spirit. The main characters are Alison, a young and brave \"\n",
    "            \"warrior with the ability to control the wind; Sebastian, a mysterious mage skilled in the use of fire; \"\n",
    "            \"Melina, a clever and agile thief adept at stealth and lock-picking; and Oliver, \"\n",
    "            \"a wise old scholar who knows the history of the City of Eternal Mist like the back of his hand. \"\n",
    "            \"The chapter should focus on the team's journey through the city as they navigate its treacherous \"\n",
    "            \"streets and ancient structures. Alison discovers an ancient book during one of her expeditions, \"\n",
    "            \"which speaks of a mystical treasure hidden deep within the City of Eternal Mist. \"\n",
    "            \"She invites Sebastian, Melina, and Oliver to join her on a quest to find the treasure. \"\n",
    "            \"As they journey through the city, they encounter various challenges, including traps, puzzles, \"\n",
    "            \"and mythical creatures guarding the treasure. They also face internal conflicts as their motivations \"\n",
    "            \"and loyalties are tested. Include vivid descriptions of the environment, the characters' interactions, \"\n",
    "            \"and the challenges they face. Highlight the tension and suspense as they get closer to the treasure, \"\n",
    "            \"and explore the dynamics between the characters as they confront both external and internal conflicts. \"\n",
    "            \"End the chapter with a cliffhanger that leaves the reader eager to know what happens next.\")\n",
    "inputs = tokenizer(prompt, return_tensors='pt')"
   ]
  },
  {
   "cell_type": "code",
   "execution_count": 4,
   "metadata": {},
   "outputs": [],
   "source": [
    "# Step 3: Generate output and get KV cache\n",
    "with torch.no_grad():\n",
    "    outputs = model(**inputs, use_cache=True)\n",
    "    logits, past_key_values = outputs.logits, outputs.past_key_values"
   ]
  },
  {
   "cell_type": "code",
   "execution_count": 5,
   "metadata": {},
   "outputs": [
    {
     "name": "stdout",
     "output_type": "stream",
     "text": [
      "Generated Text:\n",
      ". message and your book novel novel,The Last of the Darkness\"\n",
      " book follows set in the world future, the has magic haveexist. and a alternate cityropolis. in mystery darkness. The city is which as the \" of Eternal Mist, is a by a mountains walls, and a streets and a ruins.. The the center lies a city city, a to be the city of the city. The tower of the tower, the, the that the life are a purpose. The city character are a, a young girl beautiful girl, a power to fly the wind, and, a young and who in magic art of magic; and,, a young and powerful girl; at using; deceptionpickingpicking; and the, a young and man who has the secrets of the city of Eternal Mist. no rest of his hand.\n",
      " story is be on the city of journey to the city, they try the labyrinth streets, the ruins.\n",
      " and that ancient city that a of the travelsitions, and she of the city book that in within the city of Eternal Mist. The is the to Melina, and Oliver to explore her in their journey to find it treasure. The they explore through the city, they encounter a dangers and including the, traps, and traps creatures. the treasure. The must encounter a conflicts, they team for motivationsoyalties change questioned. The a descriptions of the characters, the characters, interactions with and the characters they face.\n",
      "light the characters and tension of the face to to the treasure. and the the city of the characters. they try the the and internal conflicts.\n",
      " with chapter with a shorthanger. will you reader wondering to explore more's next.\n",
      "\n"
     ]
    }
   ],
   "source": [
    "# Step 4: Decode and print the generated text\n",
    "generated_ids = torch.argmax(logits, dim=-1)\n",
    "generated_text = tokenizer.decode(generated_ids[0], skip_special_tokens=True)\n",
    "print(\"Generated Text:\")\n",
    "print(generated_text)"
   ]
  },
  {
   "cell_type": "code",
   "execution_count": 6,
   "metadata": {},
   "outputs": [
    {
     "name": "stdout",
     "output_type": "stream",
     "text": [
      "KV cache has been saved to 'kv_cache.pt'\n"
     ]
    }
   ],
   "source": [
    "# Step 5: Save KV cache to file\n",
    "torch.save(past_key_values, 'kv_cache.pt')\n",
    "print(\"KV cache has been saved to 'kv_cache.pt'\")"
   ]
  },
  {
   "cell_type": "code",
   "execution_count": 7,
   "metadata": {},
   "outputs": [
    {
     "name": "stdout",
     "output_type": "stream",
     "text": [
      "\n",
      "Loaded KV Cache from 'kv_cache.pt'\n"
     ]
    }
   ],
   "source": [
    "# Step 6: Read KV cache from file\n",
    "loaded_past_key_values = torch.load('kv_cache.pt')\n",
    "print(\"\\nLoaded KV Cache from 'kv_cache.pt'\")\n",
    "# print(loaded_past_key_values.shape())"
   ]
  }
 ],
 "metadata": {
  "kernelspec": {
   "display_name": "LASKV",
   "language": "python",
   "name": "python3"
  },
  "language_info": {
   "codemirror_mode": {
    "name": "ipython",
    "version": 3
   },
   "file_extension": ".py",
   "mimetype": "text/x-python",
   "name": "python",
   "nbconvert_exporter": "python",
   "pygments_lexer": "ipython3",
   "version": "3.8.18"
  }
 },
 "nbformat": 4,
 "nbformat_minor": 2
}
